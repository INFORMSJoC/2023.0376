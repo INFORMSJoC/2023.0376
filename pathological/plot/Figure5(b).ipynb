{
 "cells": [
  {
   "cell_type": "code",
   "execution_count": 1,
   "id": "5dba7608",
   "metadata": {},
   "outputs": [],
   "source": [
    "import numpy as np\n",
    "import matplotlib.pyplot as plt"
   ]
  },
  {
   "cell_type": "code",
   "execution_count": 6,
   "id": "171e5100",
   "metadata": {},
   "outputs": [],
   "source": [
    "# experiment_name = 'mnist'\n",
    "experiment_name = 'cifar10'\n",
    "possible_k = {'mnist':[3, 4, 5, 6], 'cifar10':[2,3,4,5]}\n",
    "\n",
    "# default 1233 for mnist, 1234 for cifar10\n",
    "SEED = 1234\n",
    "\n",
    "CANONICAL_NUM = {'mnist':4, 'cifar10':3}\n",
    "INTERPOLATE = False\n",
    "ROUNDS = [0, 20, 50, 200]\n",
    "N_TASKS = {'mnist':100, 'cifar10':80}\n",
    "\n",
    "PATH = f'../logs/{experiment_name}/Fedpop_'"
   ]
  },
  {
   "cell_type": "code",
   "execution_count": 7,
   "id": "e6ab3f0a",
   "metadata": {},
   "outputs": [],
   "source": [
    "plt.style.use('seaborn-paper')\n",
    "import matplotlib\n",
    "plt.rcParams['font.family'] = ['Times New Roman']\n",
    "plt.rcParams['figure.figsize'] = [6.4, 4]"
   ]
  },
  {
   "cell_type": "code",
   "execution_count": 8,
   "id": "f468ee56",
   "metadata": {},
   "outputs": [],
   "source": [
    "import os \n",
    "import pickle \n",
    "\n",
    "def rearrgement_matrix(path):\n",
    "    matrix = np.load(path)\n",
    "\n",
    "    with open(os.path.join(os.path.dirname(path), 'task_id_map.pkl'), 'rb') as f:\n",
    "        task_to_client = pickle.load(f)\n",
    "\n",
    "    matrix = matrix[[task_to_client[task_id] for task_id in range(N_TASKS[experiment_name])]]\n",
    "\n",
    "    with open(f'../data/{experiment_name}/client_index.pkl', 'rb') as f:\n",
    "        data_to_task = pickle.load(f)\n",
    "    matrix = matrix[[data_to_task[data_id] for data_id in range(N_TASKS[experiment_name])]]\n",
    "    return matrix"
   ]
  },
  {
   "cell_type": "code",
   "execution_count": 9,
   "id": "4c5c7c1f",
   "metadata": {},
   "outputs": [
    {
     "data": {
      "image/png": "[encoded data removed]",
      "text/plain": [
       "<Figure size 1152x288 with 5 Axes>"
      ]
     },
     "metadata": {
      "needs_background": "light"
     },
     "output_type": "display_data"
    }
   ],
   "source": [
    "import seaborn as sns\n",
    "\n",
    "if experiment_name == 'mnist':\n",
    "    y_ticks = [0, 25, 50, 75, 100]\n",
    "else:\n",
    "    y_ticks = [0, 27, 54, 80]\n",
    "fig, axes = plt.subplots(nrows=1, ncols=4, figsize=(16, 4))\n",
    "\n",
    "for i, k in enumerate(possible_k[experiment_name]):\n",
    "    k_path = PATH + str(k)\n",
    "    if k == 4:\n",
    "        k_path += '_1234'\n",
    "    else:\n",
    "        k_path += f'_{SEED}'\n",
    "    matrix = rearrgement_matrix(os.path.join(k_path, 'round_200.npy'))\n",
    "    if i != len(possible_k[experiment_name]) - 1:\n",
    "        sns.heatmap(data=matrix, cmap='Blues', xticklabels=[f'canonical_{i}' for i in range(k)], ax=axes[i], cbar=False)\n",
    "    else:\n",
    "        sns.heatmap(data=matrix, cmap='Blues', xticklabels=[f'canonical_{i}' for i in range(k)], ax=axes[i], cbar=True)\n",
    "    axes[i].set_title(rf'The final C matrix when N = {k}')\n",
    "    axes[i].set_xticklabels(axes[i].get_xticklabels(), rotation=90, horizontalalignment='right')\n",
    "    axes[i].set_yticks(y_ticks)\n",
    "    axes[i].set_yticklabels(y_ticks)\n",
    "\n",
    "\n",
    "#plt.savefig('compare_mnist.pdf', dpi=1200, bbox_inches='tight')\n",
    "plt.savefig(f'compare_{experiment_name}.pdf', dpi=1200, bbox_inches='tight')"
   ]
  }
 ],
 "metadata": {
  "kernelspec": {
   "display_name": "base",
   "language": "python",
   "name": "python3"
  },
  "language_info": {
   "codemirror_mode": {
    "name": "ipython",
    "version": 3
   },
   "file_extension": ".py",
   "mimetype": "text/x-python",
   "name": "python",
   "nbconvert_exporter": "python",
   "pygments_lexer": "ipython3",
   "version": "3.8.10"
  }
 },
 "nbformat": 4,
 "nbformat_minor": 5
}
