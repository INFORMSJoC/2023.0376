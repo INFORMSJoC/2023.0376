{
 "cells": [
  {
   "cell_type": "code",
   "execution_count": 1,
   "id": "c949dca2",
   "metadata": {},
   "outputs": [],
   "source": [
    "import numpy as np\n",
    "import matplotlib.pyplot as plt"
   ]
  },
  {
   "cell_type": "code",
   "execution_count": null,
   "id": "c29b5916",
   "metadata": {},
   "outputs": [],
   "source": [
    "experiment_name = 'mnist'\n",
    "# experiment_name = 'cifar10'\n",
    "\n",
    "# mnist, SEED=1233 by default\n",
    "# cifar10, SEED=1234 by default\n",
    "SEED = 1233\n",
    "CANONICAL_NUM = {'mnist':4, 'cifar10':3}\n",
    "INTERPOLATE = False\n",
    "ROUNDS = [0, 20, 50, 200]\n",
    "N_TASKS = {'mnist':100, 'cifar10':80}\n",
    "\n",
    "PATH = f'../logs/{experiment_name}/Fedpop_{CANONICAL_NUM[experiment_name]}'\n",
    "if INTERPOLATE:\n",
    "    PATH += '_interpolate'    \n",
    "PATH += f'_{SEED}'"
   ]
  },
  {
   "cell_type": "code",
   "execution_count": 12,
   "id": "9e88b9fd",
   "metadata": {},
   "outputs": [],
   "source": [
    "plt.style.use('seaborn-paper')\n",
    "import matplotlib\n",
    "plt.rcParams['font.family'] = ['Times New Roman']\n",
    "plt.rcParams['figure.figsize'] = [6.4, 4]"
   ]
  },
  {
   "cell_type": "code",
   "execution_count": 13,
   "id": "fafb27c6",
   "metadata": {},
   "outputs": [],
   "source": [
    "import os \n",
    "import pickle \n",
    "\n",
    "def rearrgement_matrix(path):\n",
    "    matrix = np.load(path)\n",
    "\n",
    "    with open(os.path.join(PATH, 'task_id_map.pkl'), 'rb') as f:\n",
    "        task_to_client = pickle.load(f)\n",
    "\n",
    "    matrix = matrix[[task_to_client[task_id] for task_id in range(N_TASKS[experiment_name])]]\n",
    "\n",
    "    with open(f'../data/{experiment_name}/client_index.pkl', 'rb') as f:\n",
    "        data_to_task = pickle.load(f)\n",
    "    matrix = matrix[[data_to_task[data_id] for data_id in range(N_TASKS[experiment_name])]]\n",
    "    return matrix"
   ]
  },
  {
   "cell_type": "code",
   "execution_count": 14,
   "id": "71bac704",
   "metadata": {},
   "outputs": [
    {
     "data": {
      "image/png": "[encoded data removed]",
      "text/plain": [
       "<Figure size 1152x288 with 8 Axes>"
      ]
     },
     "metadata": {
      "needs_background": "light"
     },
     "output_type": "display_data"
    }
   ],
   "source": [
    "import seaborn as sns\n",
    "\n",
    "\n",
    "if experiment_name == 'mnist':\n",
    "    y_ticks = [0, 25, 50, 75, 100]\n",
    "else:\n",
    "    y_ticks = [0, 27, 54, 80]\n",
    "\n",
    "\n",
    "fig, axes = plt.subplots(nrows=1, ncols=len(ROUNDS), figsize=(16, 4))\n",
    "\n",
    "for i, t in enumerate(ROUNDS):\n",
    "    matrix = rearrgement_matrix(os.path.join(PATH, f'round_{t}.npy'))\n",
    "    # if i != len(ROUNDS) - 1:\n",
    "    #     sns.heatmap(data=matrix, cmap='Blues', xticklabels=[f'canonical_{i}' for i in range(3)], ax=axes[i], cbar=True)\n",
    "    # else:\n",
    "    if experiment_name == \"mnist\":\n",
    "        sns.heatmap(data=matrix, cmap='Blues', xticklabels=[f'canonical_{i}' for i in range(4)], ax=axes[i])\n",
    "    else:\n",
    "        sns.heatmap(data=matrix, cmap='Blues', xticklabels=[f'canonical_{i}' for i in range(3)], ax=axes[i])\n",
    "    axes[i].set_title(rf'The C matrix at the {t}-th round')\n",
    "    axes[i].set_xticklabels(axes[i].get_xticklabels(), rotation=90, horizontalalignment='right')\n",
    "    axes[i].set_yticks(y_ticks)\n",
    "    axes[i].set_yticklabels(y_ticks)\n",
    "\n",
    "\n",
    "plt.savefig(f'cmatrix_{experiment_name}.pdf', dpi=1200, bbox_inches='tight')"
   ]
  }
 ],
 "metadata": {
  "kernelspec": {
   "display_name": "base",
   "language": "python",
   "name": "python3"
  },
  "language_info": {
   "codemirror_mode": {
    "name": "ipython",
    "version": 3
   },
   "file_extension": ".py",
   "mimetype": "text/x-python",
   "name": "python",
   "nbconvert_exporter": "python",
   "pygments_lexer": "ipython3",
   "version": "3.8.10"
  }
 },
 "nbformat": 4,
 "nbformat_minor": 5
}
